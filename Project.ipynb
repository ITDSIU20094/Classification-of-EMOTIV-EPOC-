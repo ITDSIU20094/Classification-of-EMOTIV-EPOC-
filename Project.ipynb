{
 "cells": [
  {
   "cell_type": "markdown",
   "id": "6fa56369",
   "metadata": {},
   "source": [
    "# Classification of EMOTIV EPOC 3 classes"
   ]
  },
  {
   "cell_type": "markdown",
   "id": "20a10a36",
   "metadata": {},
   "source": [
    "## Import Library"
   ]
  },
  {
   "cell_type": "code",
   "execution_count": 42,
   "id": "22906d54",
   "metadata": {},
   "outputs": [
    {
     "name": "stdout",
     "output_type": "stream",
     "text": [
      "/home/quan/PROJECT/Machine Learning with Biomedical Signals/.venv/bin/python\n"
     ]
    }
   ],
   "source": [
    "import sys\n",
    "import os\n",
    "import warnings\n",
    "warnings.filterwarnings(\"ignore\")\n",
    "import pandas as pd\n",
    "import numpy as np\n",
    "import matplotlib.pyplot as plt\n",
    "from kaggle.api.kaggle_api_extended import KaggleApi\n",
    "from sklearn import model_selection\n",
    "from sklearn.model_selection import train_test_split\n",
    "from sklearn.ensemble import RandomForestClassifier\n",
    "from sklearn.svm import SVC\n",
    "from sklearn.neighbors import KNeighborsClassifier\n",
    "from sklearn.neural_network import MLPClassifier\n",
    "from sklearn.metrics import accuracy_score, confusion_matrix, classification_report\n",
    "print(sys.executable)"
   ]
  },
  {
   "cell_type": "code",
   "execution_count": 2,
   "id": "2de96489",
   "metadata": {},
   "outputs": [
    {
     "name": "stdout",
     "output_type": "stream",
     "text": [
      "True\n"
     ]
    }
   ],
   "source": [
    "import torch\n",
    "print(torch.cuda.is_available()) "
   ]
  },
  {
   "cell_type": "markdown",
   "id": "fad939a7",
   "metadata": {},
   "source": [
    "## Data Ingestion from Kaggle"
   ]
  },
  {
   "cell_type": "code",
   "execution_count": 3,
   "id": "fcfdaac7",
   "metadata": {},
   "outputs": [
    {
     "name": "stdout",
     "output_type": "stream",
     "text": [
      "Downloading and unzipping all files from the dataset...\n",
      "Dataset URL: https://www.kaggle.com/datasets/drammaraalhamadani/emotiv-epoc-3-classes\n",
      "All files downloaded and unzipped to: ./kaggle_downloads\n"
     ]
    }
   ],
   "source": [
    "# Initialize Kaggle API\n",
    "api = KaggleApi()\n",
    "api.authenticate()\n",
    "\n",
    "# Dataset path\n",
    "kaggle_dataset = 'drammaraalhamadani/emotiv-epoc-3-classes'\n",
    "output_dir = './kaggle_downloads'\n",
    "\n",
    "# Create output directory if it doesn't exist\n",
    "os.makedirs(output_dir, exist_ok=True)\n",
    "\n",
    "# Download and unzip all files from the Kaggle dataset (download everything at once)\n",
    "print(\"Downloading and unzipping all files from the dataset...\")\n",
    "api.dataset_download_files(kaggle_dataset, path=output_dir, force=True, unzip=True)\n",
    "print(\"All files downloaded and unzipped to:\", output_dir)"
   ]
  },
  {
   "cell_type": "markdown",
   "id": "3df911a4",
   "metadata": {},
   "source": [
    "## Data Collection\n"
   ]
  },
  {
   "cell_type": "markdown",
   "id": "739db97d",
   "metadata": {},
   "source": [
    "### user_a"
   ]
  },
  {
   "cell_type": "code",
   "execution_count": 4,
   "id": "f03ee993",
   "metadata": {},
   "outputs": [
    {
     "name": "stdout",
     "output_type": "stream",
     "text": [
      "   Class          AF3        AF3.1     AF3.2     AF3.3     AF3.4     AF3.5  \\\n",
      "0    1.0  3569.164550  2063.892754  1.673726  4.444736  0.526209  3.002088   \n",
      "1    1.0  3568.423670  2063.099248  1.897790  3.728823  1.304186  1.854353   \n",
      "2    1.0  3568.157929  2062.445859  2.798014  2.574504  1.120537  1.958819   \n",
      "\n",
      "      AF3.6     AF3.7           F7  ...       F8.6       F8.7          AF4  \\\n",
      "0  1.425022  3.302739  3563.803888  ...  45.468326  72.508750  3701.186330   \n",
      "1  1.366575  2.546458  3563.560922  ...  36.551948  66.931186  3725.210509   \n",
      "2  0.982433  2.258622  3563.279981  ...  40.754308  66.816547  3724.417296   \n",
      "\n",
      "         AF4.1      AF4.2      AF4.3      AF4.4      AF4.5      AF4.6  \\\n",
      "0  2182.676835  18.192418  41.349662  16.004756  42.046467  46.280843   \n",
      "1  2180.197439   8.820788  38.012788  19.601233  29.431054  38.559351   \n",
      "2  2176.823208  18.159202  23.612639  14.378291  19.555084  43.210004   \n",
      "\n",
      "       AF4.7  \n",
      "0  73.565719  \n",
      "1  67.470041  \n",
      "2  67.781924  \n",
      "\n",
      "[3 rows x 113 columns]\n",
      "(2880, 113)\n",
      "<class 'pandas.core.frame.DataFrame'>\n",
      "RangeIndex: 2880 entries, 0 to 2879\n",
      "Columns: 113 entries, Class to AF4.7\n",
      "dtypes: float64(113)\n",
      "memory usage: 2.5 MB\n",
      "None\n"
     ]
    }
   ],
   "source": [
    "a = pd.read_csv(\"/home/quan/PROJECT/Machine Learning with Biomedical Signals/kaggle_downloads/user_a.csv\")\n",
    "print(a.head(3))\n",
    "print(a.shape)\n",
    "print(a.info())"
   ]
  },
  {
   "cell_type": "markdown",
   "id": "a8d46889",
   "metadata": {},
   "source": [
    "### user_b"
   ]
  },
  {
   "cell_type": "code",
   "execution_count": 5,
   "id": "3cf57a21",
   "metadata": {},
   "outputs": [
    {
     "name": "stdout",
     "output_type": "stream",
     "text": [
      "   Class          AF3        AF3.1     AF3.2     AF3.3     AF3.4     AF3.5  \\\n",
      "0    2.0  3577.872723  2067.408557  1.025738  1.744496  0.883469  1.282893   \n",
      "1    2.0  3577.830179  2066.857321  0.573598  1.711991  1.012575  1.900513   \n",
      "2    2.0  3576.706494  2066.736837  0.525896  1.584096  0.201467  1.038686   \n",
      "\n",
      "      AF3.6     AF3.7           F7  ...  AF4.69  AF4.70  AF4.71  Class.9  \\\n",
      "0  3.039058  2.730998  3568.553050  ...     NaN     NaN     NaN      NaN   \n",
      "1  2.746218  3.066821  3569.060181  ...     NaN     NaN     NaN      NaN   \n",
      "2  2.685631  2.977552  3569.214969  ...     NaN     NaN     NaN      NaN   \n",
      "\n",
      "   AF3.72  AF3.73  AF3.74  AF3.75  AF3.76  AF3.77  \n",
      "0     NaN     NaN     NaN     NaN     NaN     NaN  \n",
      "1     NaN     NaN     NaN     NaN     NaN     NaN  \n",
      "2     NaN     NaN     NaN     NaN     NaN     NaN  \n",
      "\n",
      "[3 rows x 1024 columns]\n",
      "(2880, 1024)\n",
      "<class 'pandas.core.frame.DataFrame'>\n",
      "RangeIndex: 2880 entries, 0 to 2879\n",
      "Columns: 1024 entries, Class to AF3.77\n",
      "dtypes: float64(1024)\n",
      "memory usage: 22.5 MB\n",
      "None\n"
     ]
    }
   ],
   "source": [
    "b = pd.read_csv(\"/home/quan/PROJECT/Machine Learning with Biomedical Signals/kaggle_downloads/user_b.csv\")\n",
    "print(b.head(3))\n",
    "print(b.shape)\n",
    "print(b.info())"
   ]
  },
  {
   "cell_type": "markdown",
   "id": "23b17a42",
   "metadata": {},
   "source": [
    "### user_c"
   ]
  },
  {
   "cell_type": "code",
   "execution_count": 6,
   "id": "a4ba1916",
   "metadata": {},
   "outputs": [
    {
     "name": "stdout",
     "output_type": "stream",
     "text": [
      "   Class          AF3        AF3.1     AF3.2     AF3.3     AF3.4     AF3.5  \\\n",
      "0    1.0  3573.336166  2067.827798  1.334973  2.294574  0.742210  2.052755   \n",
      "1    1.0  3569.424197  2063.871329  1.639684  2.573080  1.097168  2.678287   \n",
      "2    1.0  3570.767652  2064.654687  0.706498  2.613442  1.086770  2.222977   \n",
      "\n",
      "      AF3.6     AF3.7           F7  ...  AF4.69  AF4.70  AF4.71  Class.9  \\\n",
      "0  3.604952  4.854279  3575.508401  ...     NaN     NaN     NaN      NaN   \n",
      "1  2.313650  4.727548  3573.524571  ...     NaN     NaN     NaN      NaN   \n",
      "2  2.409857  4.936480  3573.935350  ...     NaN     NaN     NaN      NaN   \n",
      "\n",
      "   AF3.72  AF3.73  AF3.74  AF3.75  AF3.76  AF3.77  \n",
      "0     NaN     NaN     NaN     NaN     NaN     NaN  \n",
      "1     NaN     NaN     NaN     NaN     NaN     NaN  \n",
      "2     NaN     NaN     NaN     NaN     NaN     NaN  \n",
      "\n",
      "[3 rows x 1024 columns]\n",
      "(2880, 1024)\n",
      "<class 'pandas.core.frame.DataFrame'>\n",
      "RangeIndex: 2880 entries, 0 to 2879\n",
      "Columns: 1024 entries, Class to AF3.77\n",
      "dtypes: float64(1024)\n",
      "memory usage: 22.5 MB\n",
      "None\n"
     ]
    }
   ],
   "source": [
    "c = pd.read_csv(\"/home/quan/PROJECT/Machine Learning with Biomedical Signals/kaggle_downloads/user_c.csv\")\n",
    "print(c.head(3))\n",
    "print(c.shape)\n",
    "print(c.info())"
   ]
  },
  {
   "cell_type": "markdown",
   "id": "1a6e0b6f",
   "metadata": {},
   "source": [
    "### user_d"
   ]
  },
  {
   "cell_type": "code",
   "execution_count": 7,
   "id": "209aadae",
   "metadata": {},
   "outputs": [
    {
     "name": "stdout",
     "output_type": "stream",
     "text": [
      "   Class          AF3        AF3.1     AF3.2     AF3.3     AF3.4     AF3.5  \\\n",
      "0    1.0  3566.375438  2062.665095  1.040973  2.574824  1.376404  1.657806   \n",
      "1    1.0  3565.986713  2061.826341  1.347088  2.154989  0.904145  2.603965   \n",
      "2    1.0  3566.977885  2062.639807  1.083747  2.186981  1.155864  2.293261   \n",
      "\n",
      "      AF3.6     AF3.7           F7  ...  AF4.69  AF4.70  AF4.71  Class.9  \\\n",
      "0  0.933377  2.429998  3564.653552  ...     NaN     NaN     NaN      NaN   \n",
      "1  1.175508  2.292886  3564.071577  ...     NaN     NaN     NaN      NaN   \n",
      "2  1.144330  2.107225  3564.207493  ...     NaN     NaN     NaN      NaN   \n",
      "\n",
      "   AF3.72  AF3.73  AF3.74  AF3.75  AF3.76  AF3.77  \n",
      "0     NaN     NaN     NaN     NaN     NaN     NaN  \n",
      "1     NaN     NaN     NaN     NaN     NaN     NaN  \n",
      "2     NaN     NaN     NaN     NaN     NaN     NaN  \n",
      "\n",
      "[3 rows x 1024 columns]\n",
      "(2880, 1024)\n",
      "<class 'pandas.core.frame.DataFrame'>\n",
      "RangeIndex: 2880 entries, 0 to 2879\n",
      "Columns: 1024 entries, Class to AF3.77\n",
      "dtypes: float64(1024)\n",
      "memory usage: 22.5 MB\n",
      "None\n"
     ]
    }
   ],
   "source": [
    "d = pd.read_csv(\"/home/quan/PROJECT/Machine Learning with Biomedical Signals/kaggle_downloads/user_d.csv\")\n",
    "print(d.head(3))\n",
    "print(d.shape)\n",
    "print(d.info())"
   ]
  },
  {
   "cell_type": "markdown",
   "id": "f5c31dab",
   "metadata": {},
   "source": [
    "## Data Cleaning"
   ]
  },
  {
   "cell_type": "markdown",
   "id": "8560e57e",
   "metadata": {},
   "source": [
    "### Data Profiling"
   ]
  },
  {
   "cell_type": "code",
   "execution_count": 8,
   "id": "4eaa9e5b",
   "metadata": {},
   "outputs": [
    {
     "name": "stderr",
     "output_type": "stream",
     "text": [
      "/home/quan/PROJECT/Machine Learning with Biomedical Signals/.venv/lib/python3.10/site-packages/tqdm/auto.py:21: TqdmWarning: IProgress not found. Please update jupyter and ipywidgets. See https://ipywidgets.readthedocs.io/en/stable/user_install.html\n",
      "  from .autonotebook import tqdm as notebook_tqdm\n"
     ]
    },
    {
     "data": {
      "text/html": [
       "\n",
       "            <div>\n",
       "                <ins><a href=\"https://ydata.ai/register\">Upgrade to ydata-sdk</a></ins>\n",
       "                <p>\n",
       "                    Improve your data and profiling with ydata-sdk, featuring data quality scoring, redundancy detection, outlier identification, text validation, and synthetic data generation.\n",
       "                </p>\n",
       "            </div>\n",
       "            "
      ],
      "text/plain": [
       "<IPython.core.display.HTML object>"
      ]
     },
     "metadata": {},
     "output_type": "display_data"
    },
    {
     "name": "stderr",
     "output_type": "stream",
     "text": [
      "100%|██████████| 113/113 [00:00<00:00, 163.96it/s]<00:00, 146.06it/s, Describe variable: AF4.7]\n",
      "Summarize dataset: 100%|█████████▉| 12663/12666 [13:45<00:00,  4.74it/s, Detecting duplicates]   /home/quan/PROJECT/Machine Learning with Biomedical Signals/.venv/lib/python3.10/site-packages/ydata_profiling/model/pandas/duplicates_pandas.py:37: PerformanceWarning: DataFrame is highly fragmented.  This is usually the result of calling `frame.insert` many times, which has poor performance.  Consider joining all columns at once using pd.concat(axis=1) instead. To get a de-fragmented frame, use `newframe = frame.copy()`\n",
      "  df[duplicated_rows]\n",
      "/home/quan/PROJECT/Machine Learning with Biomedical Signals/.venv/lib/python3.10/site-packages/ydata_profiling/model/pandas/duplicates_pandas.py:37: PerformanceWarning: DataFrame is highly fragmented.  This is usually the result of calling `frame.insert` many times, which has poor performance.  Consider joining all columns at once using pd.concat(axis=1) instead. To get a de-fragmented frame, use `newframe = frame.copy()`\n",
      "  df[duplicated_rows]\n",
      "/home/quan/PROJECT/Machine Learning with Biomedical Signals/.venv/lib/python3.10/site-packages/ydata_profiling/model/pandas/duplicates_pandas.py:37: PerformanceWarning: DataFrame is highly fragmented.  This is usually the result of calling `frame.insert` many times, which has poor performance.  Consider joining all columns at once using pd.concat(axis=1) instead. To get a de-fragmented frame, use `newframe = frame.copy()`\n",
      "  df[duplicated_rows]\n",
      "/home/quan/PROJECT/Machine Learning with Biomedical Signals/.venv/lib/python3.10/site-packages/ydata_profiling/model/pandas/duplicates_pandas.py:37: PerformanceWarning: DataFrame is highly fragmented.  This is usually the result of calling `frame.insert` many times, which has poor performance.  Consider joining all columns at once using pd.concat(axis=1) instead. To get a de-fragmented frame, use `newframe = frame.copy()`\n",
      "  df[duplicated_rows]\n",
      "/home/quan/PROJECT/Machine Learning with Biomedical Signals/.venv/lib/python3.10/site-packages/ydata_profiling/model/pandas/duplicates_pandas.py:37: PerformanceWarning: DataFrame is highly fragmented.  This is usually the result of calling `frame.insert` many times, which has poor performance.  Consider joining all columns at once using pd.concat(axis=1) instead. To get a de-fragmented frame, use `newframe = frame.copy()`\n",
      "  df[duplicated_rows]\n",
      "/home/quan/PROJECT/Machine Learning with Biomedical Signals/.venv/lib/python3.10/site-packages/ydata_profiling/model/pandas/duplicates_pandas.py:37: PerformanceWarning: DataFrame is highly fragmented.  This is usually the result of calling `frame.insert` many times, which has poor performance.  Consider joining all columns at once using pd.concat(axis=1) instead. To get a de-fragmented frame, use `newframe = frame.copy()`\n",
      "  df[duplicated_rows]\n",
      "/home/quan/PROJECT/Machine Learning with Biomedical Signals/.venv/lib/python3.10/site-packages/ydata_profiling/model/pandas/duplicates_pandas.py:37: PerformanceWarning: DataFrame is highly fragmented.  This is usually the result of calling `frame.insert` many times, which has poor performance.  Consider joining all columns at once using pd.concat(axis=1) instead. To get a de-fragmented frame, use `newframe = frame.copy()`\n",
      "  df[duplicated_rows]\n",
      "/home/quan/PROJECT/Machine Learning with Biomedical Signals/.venv/lib/python3.10/site-packages/ydata_profiling/model/pandas/duplicates_pandas.py:37: PerformanceWarning: DataFrame is highly fragmented.  This is usually the result of calling `frame.insert` many times, which has poor performance.  Consider joining all columns at once using pd.concat(axis=1) instead. To get a de-fragmented frame, use `newframe = frame.copy()`\n",
      "  df[duplicated_rows]\n",
      "/home/quan/PROJECT/Machine Learning with Biomedical Signals/.venv/lib/python3.10/site-packages/ydata_profiling/model/pandas/duplicates_pandas.py:37: PerformanceWarning: DataFrame is highly fragmented.  This is usually the result of calling `frame.insert` many times, which has poor performance.  Consider joining all columns at once using pd.concat(axis=1) instead. To get a de-fragmented frame, use `newframe = frame.copy()`\n",
      "  df[duplicated_rows]\n",
      "/home/quan/PROJECT/Machine Learning with Biomedical Signals/.venv/lib/python3.10/site-packages/ydata_profiling/model/pandas/duplicates_pandas.py:37: PerformanceWarning: DataFrame is highly fragmented.  This is usually the result of calling `frame.insert` many times, which has poor performance.  Consider joining all columns at once using pd.concat(axis=1) instead. To get a de-fragmented frame, use `newframe = frame.copy()`\n",
      "  df[duplicated_rows]\n",
      "/home/quan/PROJECT/Machine Learning with Biomedical Signals/.venv/lib/python3.10/site-packages/ydata_profiling/model/pandas/duplicates_pandas.py:37: PerformanceWarning: DataFrame is highly fragmented.  This is usually the result of calling `frame.insert` many times, which has poor performance.  Consider joining all columns at once using pd.concat(axis=1) instead. To get a de-fragmented frame, use `newframe = frame.copy()`\n",
      "  df[duplicated_rows]\n",
      "/home/quan/PROJECT/Machine Learning with Biomedical Signals/.venv/lib/python3.10/site-packages/ydata_profiling/model/pandas/duplicates_pandas.py:37: PerformanceWarning: DataFrame is highly fragmented.  This is usually the result of calling `frame.insert` many times, which has poor performance.  Consider joining all columns at once using pd.concat(axis=1) instead. To get a de-fragmented frame, use `newframe = frame.copy()`\n",
      "  df[duplicated_rows]\n",
      "/home/quan/PROJECT/Machine Learning with Biomedical Signals/.venv/lib/python3.10/site-packages/ydata_profiling/model/pandas/duplicates_pandas.py:37: PerformanceWarning: DataFrame is highly fragmented.  This is usually the result of calling `frame.insert` many times, which has poor performance.  Consider joining all columns at once using pd.concat(axis=1) instead. To get a de-fragmented frame, use `newframe = frame.copy()`\n",
      "  df[duplicated_rows]\n",
      "/home/quan/PROJECT/Machine Learning with Biomedical Signals/.venv/lib/python3.10/site-packages/ydata_profiling/model/pandas/duplicates_pandas.py:37: PerformanceWarning: DataFrame is highly fragmented.  This is usually the result of calling `frame.insert` many times, which has poor performance.  Consider joining all columns at once using pd.concat(axis=1) instead. To get a de-fragmented frame, use `newframe = frame.copy()`\n",
      "  df[duplicated_rows]\n",
      "Summarize dataset: 100%|██████████| 12666/12666 [13:45<00:00, 15.34it/s, Completed]               \n",
      "Generate report structure: 100%|██████████| 1/1 [00:20<00:00, 20.26s/it]\n",
      "Render HTML: 100%|██████████| 1/1 [03:27<00:00, 207.48s/it]\n",
      "Export report to file: 100%|██████████| 1/1 [00:00<00:00,  1.04it/s]\n"
     ]
    }
   ],
   "source": [
    "import _bz2\n",
    "from ydata_profiling import ProfileReport\n",
    "profile = ProfileReport(a)\n",
    "profile.to_file(\"report.html\")"
   ]
  },
  {
   "cell_type": "markdown",
   "id": "68869cf4",
   "metadata": {},
   "source": [
    "### Missing value"
   ]
  },
  {
   "cell_type": "code",
   "execution_count": 9,
   "id": "c01e0aee",
   "metadata": {},
   "outputs": [
    {
     "data": {
      "text/html": [
       "<div>\n",
       "<style scoped>\n",
       "    .dataframe tbody tr th:only-of-type {\n",
       "        vertical-align: middle;\n",
       "    }\n",
       "\n",
       "    .dataframe tbody tr th {\n",
       "        vertical-align: top;\n",
       "    }\n",
       "\n",
       "    .dataframe thead th {\n",
       "        text-align: right;\n",
       "    }\n",
       "</style>\n",
       "<table border=\"1\" class=\"dataframe\">\n",
       "  <thead>\n",
       "    <tr style=\"text-align: right;\">\n",
       "      <th></th>\n",
       "      <th>Missing Values</th>\n",
       "      <th>Percentage</th>\n",
       "    </tr>\n",
       "  </thead>\n",
       "  <tbody>\n",
       "    <tr>\n",
       "      <th>Class</th>\n",
       "      <td>0</td>\n",
       "      <td>0.0</td>\n",
       "    </tr>\n",
       "    <tr>\n",
       "      <th>AF3</th>\n",
       "      <td>0</td>\n",
       "      <td>0.0</td>\n",
       "    </tr>\n",
       "    <tr>\n",
       "      <th>AF3.1</th>\n",
       "      <td>0</td>\n",
       "      <td>0.0</td>\n",
       "    </tr>\n",
       "    <tr>\n",
       "      <th>AF3.2</th>\n",
       "      <td>0</td>\n",
       "      <td>0.0</td>\n",
       "    </tr>\n",
       "    <tr>\n",
       "      <th>AF3.3</th>\n",
       "      <td>0</td>\n",
       "      <td>0.0</td>\n",
       "    </tr>\n",
       "    <tr>\n",
       "      <th>...</th>\n",
       "      <td>...</td>\n",
       "      <td>...</td>\n",
       "    </tr>\n",
       "    <tr>\n",
       "      <th>AF4.3</th>\n",
       "      <td>0</td>\n",
       "      <td>0.0</td>\n",
       "    </tr>\n",
       "    <tr>\n",
       "      <th>AF4.4</th>\n",
       "      <td>0</td>\n",
       "      <td>0.0</td>\n",
       "    </tr>\n",
       "    <tr>\n",
       "      <th>AF4.5</th>\n",
       "      <td>0</td>\n",
       "      <td>0.0</td>\n",
       "    </tr>\n",
       "    <tr>\n",
       "      <th>AF4.6</th>\n",
       "      <td>0</td>\n",
       "      <td>0.0</td>\n",
       "    </tr>\n",
       "    <tr>\n",
       "      <th>AF4.7</th>\n",
       "      <td>0</td>\n",
       "      <td>0.0</td>\n",
       "    </tr>\n",
       "  </tbody>\n",
       "</table>\n",
       "<p>113 rows × 2 columns</p>\n",
       "</div>"
      ],
      "text/plain": [
       "       Missing Values  Percentage\n",
       "Class               0         0.0\n",
       "AF3                 0         0.0\n",
       "AF3.1               0         0.0\n",
       "AF3.2               0         0.0\n",
       "AF3.3               0         0.0\n",
       "...               ...         ...\n",
       "AF4.3               0         0.0\n",
       "AF4.4               0         0.0\n",
       "AF4.5               0         0.0\n",
       "AF4.6               0         0.0\n",
       "AF4.7               0         0.0\n",
       "\n",
       "[113 rows x 2 columns]"
      ]
     },
     "metadata": {},
     "output_type": "display_data"
    }
   ],
   "source": [
    "missing_values = a.isnull().sum()\n",
    "missing_percentage = (missing_values / len(a)) * 100\n",
    "missing_data = pd.DataFrame({'Missing Values': missing_values, 'Percentage': missing_percentage})\n",
    "display(missing_data)"
   ]
  },
  {
   "cell_type": "markdown",
   "id": "7cedb3a1",
   "metadata": {},
   "source": [
    "### Duplicate value"
   ]
  },
  {
   "cell_type": "code",
   "execution_count": 10,
   "id": "74cb402d",
   "metadata": {},
   "outputs": [
    {
     "data": {
      "text/plain": [
       "np.int64(0)"
      ]
     },
     "execution_count": 10,
     "metadata": {},
     "output_type": "execute_result"
    }
   ],
   "source": [
    "a.duplicated().sum()"
   ]
  },
  {
   "cell_type": "code",
   "execution_count": null,
   "id": "14c59ff5",
   "metadata": {},
   "outputs": [
    {
     "data": {
      "image/png": "[encoded data removed]",
      "text/plain": [
       "<Figure size 640x480 with 1 Axes>"
      ]
     },
     "metadata": {},
     "output_type": "display_data"
    }
   ],
   "source": [
    "%matplotlib inline\n",
    "import matplotlib.pyplot as plt\n",
    "a['Class'].value_counts().plot(kind='bar')\n",
    "plt.title(\"Class Distribution\")\n",
    "plt.xlabel(\"Class\")\n",
    "plt.ylabel(\"Number of samples\")\n",
    "plt.show()\n"
   ]
  },
  {
   "cell_type": "markdown",
   "id": "d3e233a4",
   "metadata": {},
   "source": [
    "## Choose Classification Model"
   ]
  },
  {
   "cell_type": "markdown",
   "id": "6a016035",
   "metadata": {},
   "source": [
    "- XGBoost\n",
    "- Random Forest \n",
    "- Support vector machine (SVM) \n",
    "- K-nearest Neighbors (KNN) \n",
    "- Multilayer perceptron (MLP)"
   ]
  },
  {
   "cell_type": "code",
   "execution_count": 35,
   "id": "d2e6e70f",
   "metadata": {},
   "outputs": [
    {
     "name": "stdout",
     "output_type": "stream",
     "text": [
      "************************Compare Classification Algorithms*************************\n",
      "Random Forest: 0.8581 (0.0305)\n",
      "SVM: 0.3134 (0.0313)\n",
      "KNN: 0.8090 (0.0272)\n",
      "MLP: 0.3446 (0.0209)\n"
     ]
    },
    {
     "data": {
      "image/png": "[encoded data removed]",
      "text/plain": [
       "<Figure size 1000x1000 with 1 Axes>"
      ]
     },
     "metadata": {},
     "output_type": "display_data"
    }
   ],
   "source": [
    "def choose_models():\n",
    "    print(format(\"Compare Classification Algorithms\", \"*^82\"))\n",
    "    plt.style.use('ggplot')\n",
    "    \n",
    "    X = a.drop(columns=['Class'])\n",
    "    y = a['Class']\n",
    "    X_train, X_test, y_train, y_test = train_test_split(X, y, test_size=0.2)\n",
    "\n",
    "    # Prepare the models\n",
    "    models = []\n",
    "    models.append(('Random Forest', RandomForestClassifier()))\n",
    "    models.append(('SVM', SVC()))\n",
    "    models.append(('KNN', KNeighborsClassifier()))\n",
    "    models.append(('MLP', MLPClassifier()))\n",
    "\n",
    "    # Evaluate each model\n",
    "    results = []\n",
    "    names = []\n",
    "    scoring = 'accuracy'\n",
    "    for name, model in models:\n",
    "        kfold = model_selection.KFold(n_splits=10, random_state=42, shuffle=True)\n",
    "        cv_results = model_selection.cross_val_score(model, X_train, y_train, cv=kfold, scoring=scoring)\n",
    "        results.append(cv_results)\n",
    "        names.append(name)\n",
    "        print(f\"{name}: {cv_results.mean():.4f} ({cv_results.std():.4f})\")\n",
    "\n",
    "    # Boxplot algorithm comparison\n",
    "    fig = plt.figure(figsize=(10, 10))\n",
    "    fig.suptitle('Algorithm Comparison')\n",
    "    ax = fig.add_subplot(111)\n",
    "    plt.boxplot(results, vert=True, patch_artist=True)\n",
    "    ax.set_xticklabels(names)\n",
    "    plt.xlabel('Algorithm')\n",
    "    plt.ylabel('Accuracy')\n",
    "    plt.show()\n",
    "choose_models()"
   ]
  },
  {
   "cell_type": "markdown",
   "id": "e15efc75",
   "metadata": {},
   "source": [
    "Bước\tMức độ quan trọng\tKhi nào cần?\n",
    "1. Missing Values\t⭐⭐⭐⭐⭐\tLuôn cần\n",
    "2. Categorical Encoding\t⭐⭐⭐⭐⭐\tNếu có categorical data\n",
    "3. Outliers\t⭐⭐⭐⭐\tVới thuật toán nhạy cảm (SVM, Logistic)\n",
    "4. Scaling\t⭐⭐⭐⭐\tVới KNN, SVM, Neural Networks\n",
    "5. Imbalanced Data\t⭐⭐⭐\tNếu lớp mất cân bằng nặng\n",
    "6. Duplicates\t⭐⭐\tNếu dữ liệu có trùng lặp\n",
    "7. Feature Correlation\t⭐⭐\tNếu có features tương quan cao\n",
    "8. Text Cleaning\t⭐\tChỉ khi có text data\n",
    "9. Datetime Handling\t⭐\tChỉ khi có ngày tháng"
   ]
  },
  {
   "cell_type": "markdown",
   "id": "d8820376",
   "metadata": {},
   "source": [
    "## RandomForest"
   ]
  },
  {
   "cell_type": "code",
   "execution_count": 44,
   "id": "a7049f70",
   "metadata": {},
   "outputs": [
    {
     "name": "stdout",
     "output_type": "stream",
     "text": [
      "Độ chính xác trên tập kiểm tra: 0.82\n",
      "Báo cáo phân loại:\n",
      "               precision    recall  f1-score   support\n",
      "\n",
      "         0.0       0.90      0.82      0.86       209\n",
      "         1.0       0.77      0.81      0.79       183\n",
      "         2.0       0.79      0.82      0.80       184\n",
      "\n",
      "    accuracy                           0.82       576\n",
      "   macro avg       0.82      0.82      0.82       576\n",
      "weighted avg       0.82      0.82      0.82       576\n",
      "\n",
      "OOB Score: 0.83\n"
     ]
    }
   ],
   "source": [
    "X = a.drop(columns=['Class'])\n",
    "y = a['Class']\n",
    "X_train, X_test, y_train, y_test = train_test_split(X, y, test_size=0.2, random_state=42)\n",
    "model = RandomForestClassifier(n_estimators=100, max_depth=10, random_state=42, oob_score=True)\n",
    "model.fit(X_train, y_train)\n",
    "y_pred = model.predict(X_test)\n",
    "accuracy = accuracy_score(y_test, y_pred)\n",
    "print(f\"Độ chính xác trên tập kiểm tra: {accuracy:.2f}\")\n",
    "print(\"Báo cáo phân loại:\\n\", classification_report(y_test, y_pred))\n",
    "# feature_importances = model.feature_importances_\n",
    "# print(\"Important features:\", feature_importances)\n",
    "# Lỗi Out-of-Bag (OOB) - chỉ áp dụng khi oob_score=True\n",
    "print(f\"OOB Score: {model.oob_score_:.2f}\")"
   ]
  },
  {
   "cell_type": "code",
   "execution_count": 41,
   "id": "d47a6df9",
   "metadata": {},
   "outputs": [
    {
     "data": {
      "image/png": "[encoded data removed]",
      "text/plain": [
       "<Figure size 1000x800 with 1 Axes>"
      ]
     },
     "metadata": {},
     "output_type": "display_data"
    }
   ],
   "source": [
    "importances = model.feature_importances_\n",
    "indices = np.argsort(importances)[-20:]  # Top 20\n",
    "plt.figure(figsize=(10, 8))\n",
    "plt.title(\"Top 20 Feature Importances\")\n",
    "plt.barh(range(len(indices)), importances[indices], align='center')\n",
    "plt.yticks(range(len(indices)), [X.columns[i] for i in indices])\n",
    "plt.xlabel(\"Relative Importance\")\n",
    "plt.show()\n"
   ]
  }
 ],
 "metadata": {
  "kernelspec": {
   "display_name": ".venv",
   "language": "python",
   "name": "python3"
  },
  "language_info": {
   "codemirror_mode": {
    "name": "ipython",
    "version": 3
   },
   "file_extension": ".py",
   "mimetype": "text/x-python",
   "name": "python",
   "nbconvert_exporter": "python",
   "pygments_lexer": "ipython3",
   "version": "3.10.12"
  }
 },
 "nbformat": 4,
 "nbformat_minor": 5
}
