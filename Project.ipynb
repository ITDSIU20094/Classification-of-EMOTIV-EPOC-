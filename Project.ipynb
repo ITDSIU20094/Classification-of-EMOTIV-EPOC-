{
 "cells": [
  {
   "cell_type": "markdown",
   "id": "6fa56369",
   "metadata": {},
   "source": [
    "# Classification of EMOTIV EPOC 3 classes"
   ]
  },
  {
   "cell_type": "markdown",
   "id": "20a10a36",
   "metadata": {},
   "source": [
    "## Import Library"
   ]
  },
  {
   "cell_type": "code",
   "execution_count": 1,
   "id": "53e81c31",
   "metadata": {},
   "outputs": [],
   "source": [
    "import os\n",
    "import pandas as pd\n",
    "from kaggle.api.kaggle_api_extended import KaggleApi"
   ]
  },
  {
   "cell_type": "markdown",
   "id": "fad939a7",
   "metadata": {},
   "source": [
    "## Import dataset from Kaggle"
   ]
  },
  {
   "cell_type": "code",
   "execution_count": 2,
   "id": "fcfdaac7",
   "metadata": {},
   "outputs": [
    {
     "name": "stdout",
     "output_type": "stream",
     "text": [
      "Downloading and unzipping all files from the dataset...\n",
      "Dataset URL: https://www.kaggle.com/datasets/drammaraalhamadani/emotiv-epoc-3-classes\n",
      "All files downloaded and unzipped to: ./kaggle_downloads\n"
     ]
    }
   ],
   "source": [
    "# Initialize Kaggle API\n",
    "api = KaggleApi()\n",
    "api.authenticate()\n",
    "\n",
    "# Dataset path\n",
    "kaggle_dataset = 'drammaraalhamadani/emotiv-epoc-3-classes'\n",
    "output_dir = './kaggle_downloads'\n",
    "\n",
    "# Create output directory if it doesn't exist\n",
    "os.makedirs(output_dir, exist_ok=True)\n",
    "\n",
    "# Download and unzip all files from the Kaggle dataset (download everything at once)\n",
    "print(\"Downloading and unzipping all files from the dataset...\")\n",
    "api.dataset_download_files(kaggle_dataset, path=output_dir, force=True, unzip=True)\n",
    "print(\"All files downloaded and unzipped to:\", output_dir)"
   ]
  },
  {
   "cell_type": "markdown",
   "id": "3df911a4",
   "metadata": {},
   "source": [
    "# Read Dataset\n"
   ]
  },
  {
   "cell_type": "code",
   "execution_count": null,
   "id": "683c4114",
   "metadata": {},
   "outputs": [
    {
     "name": "stdout",
     "output_type": "stream",
     "text": [
      "\n",
      "Preview of user_a.csv:\n",
      "   Class          AF3        AF3.1     AF3.2     AF3.3     AF3.4     AF3.5  \\\n",
      "0    1.0  3569.164550  2063.892754  1.673726  4.444736  0.526209  3.002088   \n",
      "1    1.0  3568.423670  2063.099248  1.897790  3.728823  1.304186  1.854353   \n",
      "2    1.0  3568.157929  2062.445859  2.798014  2.574504  1.120537  1.958819   \n",
      "3    1.0  3567.710021  2062.112673  2.181775  3.610507  0.629608  2.155876   \n",
      "4    1.0  3565.546124  2063.128867  1.685161  3.384311  0.677526  1.795798   \n",
      "\n",
      "      AF3.6     AF3.7           F7  ...       F8.6       F8.7          AF4  \\\n",
      "0  1.425022  3.302739  3563.803888  ...  45.468326  72.508750  3701.186330   \n",
      "1  1.366575  2.546458  3563.560922  ...  36.551948  66.931186  3725.210509   \n",
      "2  0.982433  2.258622  3563.279981  ...  40.754308  66.816547  3724.417296   \n",
      "3  0.856275  2.233711  3562.787801  ...  38.074628  63.915386  3725.822160   \n",
      "4  0.927924  1.909810  3562.655091  ...  35.357384  64.534645  3723.053978   \n",
      "\n",
      "         AF4.1      AF4.2      AF4.3      AF4.4      AF4.5      AF4.6  \\\n",
      "0  2182.676835  18.192418  41.349662  16.004756  42.046467  46.280843   \n",
      "1  2180.197439   8.820788  38.012788  19.601233  29.431054  38.559351   \n",
      "2  2176.823208  18.159202  23.612639  14.378291  19.555084  43.210004   \n",
      "3  2177.089059  19.737616  29.484396  15.793034  25.713513  39.250246   \n",
      "4  2167.798335   8.429414  26.374975  14.920736  35.675266  33.901687   \n",
      "\n",
      "       AF4.7  \n",
      "0  73.565719  \n",
      "1  67.470041  \n",
      "2  67.781924  \n",
      "3  65.031031  \n",
      "4  66.956313  \n",
      "\n",
      "[5 rows x 113 columns]\n",
      "\n",
      "Preview of user_b.csv:\n",
      "   Class          AF3        AF3.1     AF3.2     AF3.3     AF3.4     AF3.5  \\\n",
      "0    2.0  3577.872723  2067.408557  1.025738  1.744496  0.883469  1.282893   \n",
      "1    2.0  3577.830179  2066.857321  0.573598  1.711991  1.012575  1.900513   \n",
      "2    2.0  3576.706494  2066.736837  0.525896  1.584096  0.201467  1.038686   \n",
      "3    2.0  3577.453273  2066.839712  0.549982  1.322669  0.373559  1.043046   \n",
      "4    2.0  3577.145874  2066.495108  0.253211  1.169839  0.256740  1.169276   \n",
      "\n",
      "      AF3.6     AF3.7           F7  ...  AF4.69  AF4.70  AF4.71  Class.9  \\\n",
      "0  3.039058  2.730998  3568.553050  ...     NaN     NaN     NaN      NaN   \n",
      "1  2.746218  3.066821  3569.060181  ...     NaN     NaN     NaN      NaN   \n",
      "2  2.685631  2.977552  3569.214969  ...     NaN     NaN     NaN      NaN   \n",
      "3  2.547650  2.906844  3568.109499  ...     NaN     NaN     NaN      NaN   \n",
      "4  2.680609  2.864313  3568.736123  ...     NaN     NaN     NaN      NaN   \n",
      "\n",
      "   AF3.72  AF3.73  AF3.74  AF3.75  AF3.76  AF3.77  \n",
      "0     NaN     NaN     NaN     NaN     NaN     NaN  \n",
      "1     NaN     NaN     NaN     NaN     NaN     NaN  \n",
      "2     NaN     NaN     NaN     NaN     NaN     NaN  \n",
      "3     NaN     NaN     NaN     NaN     NaN     NaN  \n",
      "4     NaN     NaN     NaN     NaN     NaN     NaN  \n",
      "\n",
      "[5 rows x 1024 columns]\n",
      "\n",
      "Preview of user_c.csv:\n",
      "   Class          AF3        AF3.1     AF3.2     AF3.3     AF3.4     AF3.5  \\\n",
      "0    1.0  3573.336166  2067.827798  1.334973  2.294574  0.742210  2.052755   \n",
      "1    1.0  3569.424197  2063.871329  1.639684  2.573080  1.097168  2.678287   \n",
      "2    1.0  3570.767652  2064.654687  0.706498  2.613442  1.086770  2.222977   \n",
      "3    1.0  3569.156909  2065.357831  0.940101  2.563546  0.836405  2.151778   \n",
      "4    1.0  3567.536119  2063.997440  0.961830  2.374021  1.046514  1.783034   \n",
      "\n",
      "      AF3.6     AF3.7           F7  ...  AF4.69  AF4.70  AF4.71  Class.9  \\\n",
      "0  3.604952  4.854279  3575.508401  ...     NaN     NaN     NaN      NaN   \n",
      "1  2.313650  4.727548  3573.524571  ...     NaN     NaN     NaN      NaN   \n",
      "2  2.409857  4.936480  3573.935350  ...     NaN     NaN     NaN      NaN   \n",
      "3  2.650254  4.500677  3572.802320  ...     NaN     NaN     NaN      NaN   \n",
      "4  2.432391  4.626892  3571.437750  ...     NaN     NaN     NaN      NaN   \n",
      "\n",
      "   AF3.72  AF3.73  AF3.74  AF3.75  AF3.76  AF3.77  \n",
      "0     NaN     NaN     NaN     NaN     NaN     NaN  \n",
      "1     NaN     NaN     NaN     NaN     NaN     NaN  \n",
      "2     NaN     NaN     NaN     NaN     NaN     NaN  \n",
      "3     NaN     NaN     NaN     NaN     NaN     NaN  \n",
      "4     NaN     NaN     NaN     NaN     NaN     NaN  \n",
      "\n",
      "[5 rows x 1024 columns]\n",
      "\n",
      "Preview of user_d.csv:\n",
      "   Class          AF3        AF3.1     AF3.2     AF3.3     AF3.4     AF3.5  \\\n",
      "0    1.0  3566.375438  2062.665095  1.040973  2.574824  1.376404  1.657806   \n",
      "1    1.0  3565.986713  2061.826341  1.347088  2.154989  0.904145  2.603965   \n",
      "2    1.0  3566.977885  2062.639807  1.083747  2.186981  1.155864  2.293261   \n",
      "3    1.0  3566.342634  2063.069909  1.208843  2.160716  1.143995  2.283394   \n",
      "4    1.0  3567.798629  2062.549327  1.378424  3.255706  0.795261  1.726990   \n",
      "\n",
      "      AF3.6     AF3.7           F7  ...  AF4.69  AF4.70  AF4.71  Class.9  \\\n",
      "0  0.933377  2.429998  3564.653552  ...     NaN     NaN     NaN      NaN   \n",
      "1  1.175508  2.292886  3564.071577  ...     NaN     NaN     NaN      NaN   \n",
      "2  1.144330  2.107225  3564.207493  ...     NaN     NaN     NaN      NaN   \n",
      "3  1.008707  2.047132  3564.536023  ...     NaN     NaN     NaN      NaN   \n",
      "4  0.914162  1.746653  3565.157175  ...     NaN     NaN     NaN      NaN   \n",
      "\n",
      "   AF3.72  AF3.73  AF3.74  AF3.75  AF3.76  AF3.77  \n",
      "0     NaN     NaN     NaN     NaN     NaN     NaN  \n",
      "1     NaN     NaN     NaN     NaN     NaN     NaN  \n",
      "2     NaN     NaN     NaN     NaN     NaN     NaN  \n",
      "3     NaN     NaN     NaN     NaN     NaN     NaN  \n",
      "4     NaN     NaN     NaN     NaN     NaN     NaN  \n",
      "\n",
      "[5 rows x 1024 columns]\n"
     ]
    }
   ],
   "source": [
    "import os\n",
    "import pandas as pd\n",
    "\n",
    "dir_path = \"./kaggle_downloads\"\n",
    "csv_files = ['user_a.csv', 'user_b.csv', 'user_c.csv', 'user_d.csv']\n",
    "\n",
    "for csv_file in csv_files:\n",
    "    csv_path = os.path.join(dir_path, csv_file)\n",
    "    print(f\"\\nPreview of {csv_file}:\")\n",
    "    if os.path.exists(csv_path):\n",
    "        try:\n",
    "            df = pd.read_csv(csv_path)\n",
    "            print(df.head(3))\n",
    "        except Exception as e:\n",
    "            print(f\"Error reading {csv_file}: {e}\")\n",
    "    else:\n",
    "        print(f\"File not found: {csv_file}\")"
   ]
  },
  {
   "cell_type": "markdown",
   "id": "a8d46889",
   "metadata": {},
   "source": []
  },
  {
   "cell_type": "code",
   "execution_count": null,
   "id": "3cf57a21",
   "metadata": {},
   "outputs": [],
   "source": []
  }
 ],
 "metadata": {
  "kernelspec": {
   "display_name": ".venv",
   "language": "python",
   "name": "python3"
  },
  "language_info": {
   "codemirror_mode": {
    "name": "ipython",
    "version": 3
   },
   "file_extension": ".py",
   "mimetype": "text/x-python",
   "name": "python",
   "nbconvert_exporter": "python",
   "pygments_lexer": "ipython3",
   "version": "3.13.3"
  }
 },
 "nbformat": 4,
 "nbformat_minor": 5
}
