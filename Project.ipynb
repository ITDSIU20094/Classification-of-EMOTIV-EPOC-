{
 "cells": [
  {
   "cell_type": "markdown",
   "id": "6fa56369",
   "metadata": {},
   "source": [
    "# Classification of EMOTIV EPOC 3 classes"
   ]
  },
  {
   "cell_type": "markdown",
   "id": "20a10a36",
   "metadata": {},
   "source": [
    "## Import Library"
   ]
  },
  {
   "cell_type": "code",
   "execution_count": 28,
   "id": "53e81c31",
   "metadata": {},
   "outputs": [],
   "source": [
    "import os\n",
    "import pandas as pd\n",
    "from kaggle.api.kaggle_api_extended import KaggleApi"
   ]
  },
  {
   "cell_type": "markdown",
   "id": "fad939a7",
   "metadata": {},
   "source": [
    "## Data Ingestion from Kaggle"
   ]
  },
  {
   "cell_type": "code",
   "execution_count": 2,
   "id": "fcfdaac7",
   "metadata": {},
   "outputs": [
    {
     "name": "stdout",
     "output_type": "stream",
     "text": [
      "Downloading and unzipping all files from the dataset...\n",
      "Dataset URL: https://www.kaggle.com/datasets/drammaraalhamadani/emotiv-epoc-3-classes\n",
      "All files downloaded and unzipped to: ./kaggle_downloads\n"
     ]
    }
   ],
   "source": [
    "# Initialize Kaggle API\n",
    "api = KaggleApi()\n",
    "api.authenticate()\n",
    "\n",
    "# Dataset path\n",
    "kaggle_dataset = 'drammaraalhamadani/emotiv-epoc-3-classes'\n",
    "output_dir = './kaggle_downloads'\n",
    "\n",
    "# Create output directory if it doesn't exist\n",
    "os.makedirs(output_dir, exist_ok=True)\n",
    "\n",
    "# Download and unzip all files from the Kaggle dataset (download everything at once)\n",
    "print(\"Downloading and unzipping all files from the dataset...\")\n",
    "api.dataset_download_files(kaggle_dataset, path=output_dir, force=True, unzip=True)\n",
    "print(\"All files downloaded and unzipped to:\", output_dir)"
   ]
  },
  {
   "cell_type": "markdown",
   "id": "3df911a4",
   "metadata": {},
   "source": [
    "## Data Collection\n"
   ]
  },
  {
   "cell_type": "markdown",
   "id": "739db97d",
   "metadata": {},
   "source": [
    "### user_a"
   ]
  },
  {
   "cell_type": "code",
   "execution_count": 21,
   "id": "f03ee993",
   "metadata": {},
   "outputs": [
    {
     "name": "stdout",
     "output_type": "stream",
     "text": [
      "   Class          AF3        AF3.1     AF3.2     AF3.3     AF3.4     AF3.5  \\\n",
      "0    1.0  3569.164550  2063.892754  1.673726  4.444736  0.526209  3.002088   \n",
      "1    1.0  3568.423670  2063.099248  1.897790  3.728823  1.304186  1.854353   \n",
      "2    1.0  3568.157929  2062.445859  2.798014  2.574504  1.120537  1.958819   \n",
      "\n",
      "      AF3.6     AF3.7           F7  ...       F8.6       F8.7          AF4  \\\n",
      "0  1.425022  3.302739  3563.803888  ...  45.468326  72.508750  3701.186330   \n",
      "1  1.366575  2.546458  3563.560922  ...  36.551948  66.931186  3725.210509   \n",
      "2  0.982433  2.258622  3563.279981  ...  40.754308  66.816547  3724.417296   \n",
      "\n",
      "         AF4.1      AF4.2      AF4.3      AF4.4      AF4.5      AF4.6  \\\n",
      "0  2182.676835  18.192418  41.349662  16.004756  42.046467  46.280843   \n",
      "1  2180.197439   8.820788  38.012788  19.601233  29.431054  38.559351   \n",
      "2  2176.823208  18.159202  23.612639  14.378291  19.555084  43.210004   \n",
      "\n",
      "       AF4.7  \n",
      "0  73.565719  \n",
      "1  67.470041  \n",
      "2  67.781924  \n",
      "\n",
      "[3 rows x 113 columns]\n",
      "(2880, 113)\n",
      "<class 'pandas.core.frame.DataFrame'>\n",
      "RangeIndex: 2880 entries, 0 to 2879\n",
      "Columns: 113 entries, Class to AF4.7\n",
      "dtypes: float64(113)\n",
      "memory usage: 2.5 MB\n",
      "None\n"
     ]
    }
   ],
   "source": [
    "a = pd.read_csv(\"/home/quan/PROJECT/Machine Learning with Biomedical Signals/kaggle_downloads/user_a.csv\")\n",
    "print(a.head(3))\n",
    "print(a.shape)\n",
    "print(a.info())"
   ]
  },
  {
   "cell_type": "markdown",
   "id": "a8d46889",
   "metadata": {},
   "source": [
    "### user_b"
   ]
  },
  {
   "cell_type": "code",
   "execution_count": 22,
   "id": "3cf57a21",
   "metadata": {},
   "outputs": [
    {
     "name": "stdout",
     "output_type": "stream",
     "text": [
      "   Class          AF3        AF3.1     AF3.2     AF3.3     AF3.4     AF3.5  \\\n",
      "0    2.0  3577.872723  2067.408557  1.025738  1.744496  0.883469  1.282893   \n",
      "1    2.0  3577.830179  2066.857321  0.573598  1.711991  1.012575  1.900513   \n",
      "2    2.0  3576.706494  2066.736837  0.525896  1.584096  0.201467  1.038686   \n",
      "\n",
      "      AF3.6     AF3.7           F7  ...  AF4.69  AF4.70  AF4.71  Class.9  \\\n",
      "0  3.039058  2.730998  3568.553050  ...     NaN     NaN     NaN      NaN   \n",
      "1  2.746218  3.066821  3569.060181  ...     NaN     NaN     NaN      NaN   \n",
      "2  2.685631  2.977552  3569.214969  ...     NaN     NaN     NaN      NaN   \n",
      "\n",
      "   AF3.72  AF3.73  AF3.74  AF3.75  AF3.76  AF3.77  \n",
      "0     NaN     NaN     NaN     NaN     NaN     NaN  \n",
      "1     NaN     NaN     NaN     NaN     NaN     NaN  \n",
      "2     NaN     NaN     NaN     NaN     NaN     NaN  \n",
      "\n",
      "[3 rows x 1024 columns]\n",
      "(2880, 1024)\n",
      "<class 'pandas.core.frame.DataFrame'>\n",
      "RangeIndex: 2880 entries, 0 to 2879\n",
      "Columns: 1024 entries, Class to AF3.77\n",
      "dtypes: float64(1024)\n",
      "memory usage: 22.5 MB\n",
      "None\n"
     ]
    }
   ],
   "source": [
    "b = pd.read_csv(\"/home/quan/PROJECT/Machine Learning with Biomedical Signals/kaggle_downloads/user_b.csv\")\n",
    "print(b.head(3))\n",
    "print(b.shape)\n",
    "print(b.info())"
   ]
  },
  {
   "cell_type": "markdown",
   "id": "23b17a42",
   "metadata": {},
   "source": [
    "### user_c"
   ]
  },
  {
   "cell_type": "code",
   "execution_count": 23,
   "id": "a4ba1916",
   "metadata": {},
   "outputs": [
    {
     "name": "stdout",
     "output_type": "stream",
     "text": [
      "   Class          AF3        AF3.1     AF3.2     AF3.3     AF3.4     AF3.5  \\\n",
      "0    1.0  3573.336166  2067.827798  1.334973  2.294574  0.742210  2.052755   \n",
      "1    1.0  3569.424197  2063.871329  1.639684  2.573080  1.097168  2.678287   \n",
      "2    1.0  3570.767652  2064.654687  0.706498  2.613442  1.086770  2.222977   \n",
      "\n",
      "      AF3.6     AF3.7           F7  ...  AF4.69  AF4.70  AF4.71  Class.9  \\\n",
      "0  3.604952  4.854279  3575.508401  ...     NaN     NaN     NaN      NaN   \n",
      "1  2.313650  4.727548  3573.524571  ...     NaN     NaN     NaN      NaN   \n",
      "2  2.409857  4.936480  3573.935350  ...     NaN     NaN     NaN      NaN   \n",
      "\n",
      "   AF3.72  AF3.73  AF3.74  AF3.75  AF3.76  AF3.77  \n",
      "0     NaN     NaN     NaN     NaN     NaN     NaN  \n",
      "1     NaN     NaN     NaN     NaN     NaN     NaN  \n",
      "2     NaN     NaN     NaN     NaN     NaN     NaN  \n",
      "\n",
      "[3 rows x 1024 columns]\n",
      "(2880, 1024)\n",
      "<class 'pandas.core.frame.DataFrame'>\n",
      "RangeIndex: 2880 entries, 0 to 2879\n",
      "Columns: 1024 entries, Class to AF3.77\n",
      "dtypes: float64(1024)\n",
      "memory usage: 22.5 MB\n",
      "None\n"
     ]
    }
   ],
   "source": [
    "c = pd.read_csv(\"/home/quan/PROJECT/Machine Learning with Biomedical Signals/kaggle_downloads/user_c.csv\")\n",
    "print(c.head(3))\n",
    "print(c.shape)\n",
    "print(c.info())"
   ]
  },
  {
   "cell_type": "markdown",
   "id": "1a6e0b6f",
   "metadata": {},
   "source": [
    "### user_d"
   ]
  },
  {
   "cell_type": "code",
   "execution_count": 24,
   "id": "209aadae",
   "metadata": {},
   "outputs": [
    {
     "name": "stdout",
     "output_type": "stream",
     "text": [
      "   Class          AF3        AF3.1     AF3.2     AF3.3     AF3.4     AF3.5  \\\n",
      "0    1.0  3566.375438  2062.665095  1.040973  2.574824  1.376404  1.657806   \n",
      "1    1.0  3565.986713  2061.826341  1.347088  2.154989  0.904145  2.603965   \n",
      "2    1.0  3566.977885  2062.639807  1.083747  2.186981  1.155864  2.293261   \n",
      "\n",
      "      AF3.6     AF3.7           F7  ...  AF4.69  AF4.70  AF4.71  Class.9  \\\n",
      "0  0.933377  2.429998  3564.653552  ...     NaN     NaN     NaN      NaN   \n",
      "1  1.175508  2.292886  3564.071577  ...     NaN     NaN     NaN      NaN   \n",
      "2  1.144330  2.107225  3564.207493  ...     NaN     NaN     NaN      NaN   \n",
      "\n",
      "   AF3.72  AF3.73  AF3.74  AF3.75  AF3.76  AF3.77  \n",
      "0     NaN     NaN     NaN     NaN     NaN     NaN  \n",
      "1     NaN     NaN     NaN     NaN     NaN     NaN  \n",
      "2     NaN     NaN     NaN     NaN     NaN     NaN  \n",
      "\n",
      "[3 rows x 1024 columns]\n",
      "(2880, 1024)\n",
      "<class 'pandas.core.frame.DataFrame'>\n",
      "RangeIndex: 2880 entries, 0 to 2879\n",
      "Columns: 1024 entries, Class to AF3.77\n",
      "dtypes: float64(1024)\n",
      "memory usage: 22.5 MB\n",
      "None\n"
     ]
    }
   ],
   "source": [
    "d = pd.read_csv(\"/home/quan/PROJECT/Machine Learning with Biomedical Signals/kaggle_downloads/user_d.csv\")\n",
    "print(d.head(3))\n",
    "print(d.shape)\n",
    "print(d.info())"
   ]
  },
  {
   "cell_type": "markdown",
   "id": "f5c31dab",
   "metadata": {},
   "source": [
    "## Data Cleaning"
   ]
  },
  {
   "cell_type": "code",
   "execution_count": 27,
   "id": "4eaa9e5b",
   "metadata": {},
   "outputs": [
    {
     "ename": "ModuleNotFoundError",
     "evalue": "No module named 'pandas_profiling'",
     "output_type": "error",
     "traceback": [
      "\u001b[31m---------------------------------------------------------------------------\u001b[39m",
      "\u001b[31mModuleNotFoundError\u001b[39m                       Traceback (most recent call last)",
      "\u001b[36mCell\u001b[39m\u001b[36m \u001b[39m\u001b[32mIn[27]\u001b[39m\u001b[32m, line 1\u001b[39m\n\u001b[32m----> \u001b[39m\u001b[32m1\u001b[39m \u001b[38;5;28;01mfrom\u001b[39;00m\u001b[38;5;250m \u001b[39m\u001b[34;01mpandas_profiling\u001b[39;00m\u001b[38;5;250m \u001b[39m\u001b[38;5;28;01mimport\u001b[39;00m ProfileReport\n\u001b[32m      2\u001b[39m profile = ProfileReport(b)\n\u001b[32m      3\u001b[39m profile.to_file(\u001b[33m\"\u001b[39m\u001b[33mreport.html\u001b[39m\u001b[33m\"\u001b[39m)\n",
      "\u001b[31mModuleNotFoundError\u001b[39m: No module named 'pandas_profiling'"
     ]
    }
   ],
   "source": [
    "from pandas_profiling import ProfileReport\n",
    "profile = ProfileReport(b)\n",
    "profile.to_file(\"report.html\")"
   ]
  },
  {
   "cell_type": "markdown",
   "id": "68869cf4",
   "metadata": {},
   "source": [
    "### Missing value"
   ]
  },
  {
   "cell_type": "code",
   "execution_count": 26,
   "id": "160804f6",
   "metadata": {},
   "outputs": [
    {
     "name": "stdout",
     "output_type": "stream",
     "text": [
      "2623680\n"
     ]
    }
   ],
   "source": [
    "print(b.isnull().sum().sum())  # Tổng số giá trị bị thiếu toàn bộ bảng"
   ]
  }
 ],
 "metadata": {
  "kernelspec": {
   "display_name": ".venv",
   "language": "python",
   "name": "python3"
  },
  "language_info": {
   "codemirror_mode": {
    "name": "ipython",
    "version": 3
   },
   "file_extension": ".py",
   "mimetype": "text/x-python",
   "name": "python",
   "nbconvert_exporter": "python",
   "pygments_lexer": "ipython3",
   "version": "3.13.3"
  }
 },
 "nbformat": 4,
 "nbformat_minor": 5
}
