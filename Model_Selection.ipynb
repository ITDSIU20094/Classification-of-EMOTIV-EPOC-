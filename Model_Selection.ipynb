{
 "cells": [
  {
   "cell_type": "markdown",
   "id": "efee36b7",
   "metadata": {},
   "source": [
    "## Import library"
   ]
  },
  {
   "cell_type": "code",
   "execution_count": 14,
   "id": "3f6191e3",
   "metadata": {},
   "outputs": [],
   "source": [
    "import pandas as pd\n",
    "import numpy as np\n",
    "import matplotlib.pyplot as plt\n",
    "from sklearn.model_selection import train_test_split\n",
    "from sklearn.linear_model import LogisticRegression\n",
    "from sklearn.svm import SVC\n",
    "from sklearn.tree import DecisionTreeClassifier\n",
    "from sklearn.ensemble import RandomForestClassifier, GradientBoostingClassifier\n",
    "from sklearn.neighbors import KNeighborsClassifier\n",
    "from xgboost import XGBClassifier\n",
    "from sklearn.model_selection import cross_val_score\n",
    "from sklearn.preprocessing import StandardScaler\n",
    "from sklearn.model_selection import GridSearchCV\n",
    "from sklearn.metrics import roc_curve, auc"
   ]
  },
  {
   "cell_type": "markdown",
   "id": "90018433",
   "metadata": {},
   "source": [
    "## Read Dataset"
   ]
  },
  {
   "cell_type": "code",
   "execution_count": 2,
   "id": "55618d3b",
   "metadata": {},
   "outputs": [
    {
     "name": "stdout",
     "output_type": "stream",
     "text": [
      "   Class          AF3        AF3.1     AF3.2     AF3.3     AF3.4     AF3.5  \\\n",
      "0    1.0  3569.164550  2063.892754  1.673726  4.444736  0.526209  3.002088   \n",
      "1    1.0  3568.423670  2063.099248  1.897790  3.728823  1.304186  1.854353   \n",
      "2    1.0  3568.157929  2062.445859  2.798014  2.574504  1.120537  1.958819   \n",
      "\n",
      "      AF3.6     AF3.7           F7  ...       F8.6       F8.7          AF4  \\\n",
      "0  1.425022  3.302739  3563.803888  ...  45.468326  72.508750  3701.186330   \n",
      "1  1.366575  2.546458  3563.560922  ...  36.551948  66.931186  3725.210509   \n",
      "2  0.982433  2.258622  3563.279981  ...  40.754308  66.816547  3724.417296   \n",
      "\n",
      "         AF4.1      AF4.2      AF4.3      AF4.4      AF4.5      AF4.6  \\\n",
      "0  2182.676835  18.192418  41.349662  16.004756  42.046467  46.280843   \n",
      "1  2180.197439   8.820788  38.012788  19.601233  29.431054  38.559351   \n",
      "2  2176.823208  18.159202  23.612639  14.378291  19.555084  43.210004   \n",
      "\n",
      "       AF4.7  \n",
      "0  73.565719  \n",
      "1  67.470041  \n",
      "2  67.781924  \n",
      "\n",
      "[3 rows x 113 columns]\n",
      "(2880, 113)\n",
      "<class 'pandas.core.frame.DataFrame'>\n",
      "RangeIndex: 2880 entries, 0 to 2879\n",
      "Columns: 113 entries, Class to AF4.7\n",
      "dtypes: float64(113)\n",
      "memory usage: 2.5 MB\n",
      "None\n"
     ]
    }
   ],
   "source": [
    "a = pd.read_csv(\"/home/quan/PROJECT/Machine Learning with Biomedical Signals/kaggle_downloads/user_a.csv\")\n",
    "print(a.head(3))\n",
    "print(a.shape)\n",
    "print(a.info())"
   ]
  },
  {
   "cell_type": "code",
   "execution_count": 3,
   "id": "3290e862",
   "metadata": {},
   "outputs": [
    {
     "name": "stdout",
     "output_type": "stream",
     "text": [
      "AF3\n"
     ]
    }
   ],
   "source": [
    "print(a.columns[1])"
   ]
  },
  {
   "cell_type": "code",
   "execution_count": 19,
   "id": "3952cc89",
   "metadata": {},
   "outputs": [
    {
     "data": {
      "text/plain": [
       "array([1., 2., 0.])"
      ]
     },
     "execution_count": 19,
     "metadata": {},
     "output_type": "execute_result"
    }
   ],
   "source": [
    "a['Class'].unique()"
   ]
  },
  {
   "cell_type": "markdown",
   "id": "aa238fc3",
   "metadata": {},
   "source": [
    "## Splitting the Features and Target"
   ]
  },
  {
   "cell_type": "code",
   "execution_count": 4,
   "id": "7dedaded",
   "metadata": {},
   "outputs": [],
   "source": [
    "X = a.drop(columns =['Class'])\n",
    "y = a['Class']"
   ]
  },
  {
   "cell_type": "code",
   "execution_count": 5,
   "id": "2617fa54",
   "metadata": {},
   "outputs": [
    {
     "data": {
      "text/html": [
       "<div>\n",
       "<style scoped>\n",
       "    .dataframe tbody tr th:only-of-type {\n",
       "        vertical-align: middle;\n",
       "    }\n",
       "\n",
       "    .dataframe tbody tr th {\n",
       "        vertical-align: top;\n",
       "    }\n",
       "\n",
       "    .dataframe thead th {\n",
       "        text-align: right;\n",
       "    }\n",
       "</style>\n",
       "<table border=\"1\" class=\"dataframe\">\n",
       "  <thead>\n",
       "    <tr style=\"text-align: right;\">\n",
       "      <th></th>\n",
       "      <th>AF3</th>\n",
       "      <th>AF3.1</th>\n",
       "      <th>AF3.2</th>\n",
       "      <th>AF3.3</th>\n",
       "      <th>AF3.4</th>\n",
       "      <th>AF3.5</th>\n",
       "      <th>AF3.6</th>\n",
       "      <th>AF3.7</th>\n",
       "      <th>F7</th>\n",
       "      <th>F7.1</th>\n",
       "      <th>...</th>\n",
       "      <th>F8.6</th>\n",
       "      <th>F8.7</th>\n",
       "      <th>AF4</th>\n",
       "      <th>AF4.1</th>\n",
       "      <th>AF4.2</th>\n",
       "      <th>AF4.3</th>\n",
       "      <th>AF4.4</th>\n",
       "      <th>AF4.5</th>\n",
       "      <th>AF4.6</th>\n",
       "      <th>AF4.7</th>\n",
       "    </tr>\n",
       "  </thead>\n",
       "  <tbody>\n",
       "    <tr>\n",
       "      <th>0</th>\n",
       "      <td>3569.164550</td>\n",
       "      <td>2063.892754</td>\n",
       "      <td>1.673726</td>\n",
       "      <td>4.444736</td>\n",
       "      <td>0.526209</td>\n",
       "      <td>3.002088</td>\n",
       "      <td>1.425022</td>\n",
       "      <td>3.302739</td>\n",
       "      <td>3563.803888</td>\n",
       "      <td>2060.239057</td>\n",
       "      <td>...</td>\n",
       "      <td>45.468326</td>\n",
       "      <td>72.508750</td>\n",
       "      <td>3701.186330</td>\n",
       "      <td>2182.676835</td>\n",
       "      <td>18.192418</td>\n",
       "      <td>41.349662</td>\n",
       "      <td>16.004756</td>\n",
       "      <td>42.046467</td>\n",
       "      <td>46.280843</td>\n",
       "      <td>73.565719</td>\n",
       "    </tr>\n",
       "    <tr>\n",
       "      <th>1</th>\n",
       "      <td>3568.423670</td>\n",
       "      <td>2063.099248</td>\n",
       "      <td>1.897790</td>\n",
       "      <td>3.728823</td>\n",
       "      <td>1.304186</td>\n",
       "      <td>1.854353</td>\n",
       "      <td>1.366575</td>\n",
       "      <td>2.546458</td>\n",
       "      <td>3563.560922</td>\n",
       "      <td>2059.969372</td>\n",
       "      <td>...</td>\n",
       "      <td>36.551948</td>\n",
       "      <td>66.931186</td>\n",
       "      <td>3725.210509</td>\n",
       "      <td>2180.197439</td>\n",
       "      <td>8.820788</td>\n",
       "      <td>38.012788</td>\n",
       "      <td>19.601233</td>\n",
       "      <td>29.431054</td>\n",
       "      <td>38.559351</td>\n",
       "      <td>67.470041</td>\n",
       "    </tr>\n",
       "    <tr>\n",
       "      <th>2</th>\n",
       "      <td>3568.157929</td>\n",
       "      <td>2062.445859</td>\n",
       "      <td>2.798014</td>\n",
       "      <td>2.574504</td>\n",
       "      <td>1.120537</td>\n",
       "      <td>1.958819</td>\n",
       "      <td>0.982433</td>\n",
       "      <td>2.258622</td>\n",
       "      <td>3563.279981</td>\n",
       "      <td>2059.543651</td>\n",
       "      <td>...</td>\n",
       "      <td>40.754308</td>\n",
       "      <td>66.816547</td>\n",
       "      <td>3724.417296</td>\n",
       "      <td>2176.823208</td>\n",
       "      <td>18.159202</td>\n",
       "      <td>23.612639</td>\n",
       "      <td>14.378291</td>\n",
       "      <td>19.555084</td>\n",
       "      <td>43.210004</td>\n",
       "      <td>67.781924</td>\n",
       "    </tr>\n",
       "    <tr>\n",
       "      <th>3</th>\n",
       "      <td>3567.710021</td>\n",
       "      <td>2062.112673</td>\n",
       "      <td>2.181775</td>\n",
       "      <td>3.610507</td>\n",
       "      <td>0.629608</td>\n",
       "      <td>2.155876</td>\n",
       "      <td>0.856275</td>\n",
       "      <td>2.233711</td>\n",
       "      <td>3562.787801</td>\n",
       "      <td>2059.317489</td>\n",
       "      <td>...</td>\n",
       "      <td>38.074628</td>\n",
       "      <td>63.915386</td>\n",
       "      <td>3725.822160</td>\n",
       "      <td>2177.089059</td>\n",
       "      <td>19.737616</td>\n",
       "      <td>29.484396</td>\n",
       "      <td>15.793034</td>\n",
       "      <td>25.713513</td>\n",
       "      <td>39.250246</td>\n",
       "      <td>65.031031</td>\n",
       "    </tr>\n",
       "    <tr>\n",
       "      <th>4</th>\n",
       "      <td>3565.546124</td>\n",
       "      <td>2063.128867</td>\n",
       "      <td>1.685161</td>\n",
       "      <td>3.384311</td>\n",
       "      <td>0.677526</td>\n",
       "      <td>1.795798</td>\n",
       "      <td>0.927924</td>\n",
       "      <td>1.909810</td>\n",
       "      <td>3562.655091</td>\n",
       "      <td>2059.139105</td>\n",
       "      <td>...</td>\n",
       "      <td>35.357384</td>\n",
       "      <td>64.534645</td>\n",
       "      <td>3723.053978</td>\n",
       "      <td>2167.798335</td>\n",
       "      <td>8.429414</td>\n",
       "      <td>26.374975</td>\n",
       "      <td>14.920736</td>\n",
       "      <td>35.675266</td>\n",
       "      <td>33.901687</td>\n",
       "      <td>66.956313</td>\n",
       "    </tr>\n",
       "  </tbody>\n",
       "</table>\n",
       "<p>5 rows × 112 columns</p>\n",
       "</div>"
      ],
      "text/plain": [
       "           AF3        AF3.1     AF3.2     AF3.3     AF3.4     AF3.5     AF3.6  \\\n",
       "0  3569.164550  2063.892754  1.673726  4.444736  0.526209  3.002088  1.425022   \n",
       "1  3568.423670  2063.099248  1.897790  3.728823  1.304186  1.854353  1.366575   \n",
       "2  3568.157929  2062.445859  2.798014  2.574504  1.120537  1.958819  0.982433   \n",
       "3  3567.710021  2062.112673  2.181775  3.610507  0.629608  2.155876  0.856275   \n",
       "4  3565.546124  2063.128867  1.685161  3.384311  0.677526  1.795798  0.927924   \n",
       "\n",
       "      AF3.7           F7         F7.1  ...       F8.6       F8.7          AF4  \\\n",
       "0  3.302739  3563.803888  2060.239057  ...  45.468326  72.508750  3701.186330   \n",
       "1  2.546458  3563.560922  2059.969372  ...  36.551948  66.931186  3725.210509   \n",
       "2  2.258622  3563.279981  2059.543651  ...  40.754308  66.816547  3724.417296   \n",
       "3  2.233711  3562.787801  2059.317489  ...  38.074628  63.915386  3725.822160   \n",
       "4  1.909810  3562.655091  2059.139105  ...  35.357384  64.534645  3723.053978   \n",
       "\n",
       "         AF4.1      AF4.2      AF4.3      AF4.4      AF4.5      AF4.6  \\\n",
       "0  2182.676835  18.192418  41.349662  16.004756  42.046467  46.280843   \n",
       "1  2180.197439   8.820788  38.012788  19.601233  29.431054  38.559351   \n",
       "2  2176.823208  18.159202  23.612639  14.378291  19.555084  43.210004   \n",
       "3  2177.089059  19.737616  29.484396  15.793034  25.713513  39.250246   \n",
       "4  2167.798335   8.429414  26.374975  14.920736  35.675266  33.901687   \n",
       "\n",
       "       AF4.7  \n",
       "0  73.565719  \n",
       "1  67.470041  \n",
       "2  67.781924  \n",
       "3  65.031031  \n",
       "4  66.956313  \n",
       "\n",
       "[5 rows x 112 columns]"
      ]
     },
     "execution_count": 5,
     "metadata": {},
     "output_type": "execute_result"
    }
   ],
   "source": [
    "X.head()"
   ]
  },
  {
   "cell_type": "code",
   "execution_count": 6,
   "id": "ad79a01a",
   "metadata": {},
   "outputs": [
    {
     "data": {
      "text/plain": [
       "0    1.0\n",
       "1    1.0\n",
       "2    1.0\n",
       "3    1.0\n",
       "4    1.0\n",
       "Name: Class, dtype: float64"
      ]
     },
     "execution_count": 6,
     "metadata": {},
     "output_type": "execute_result"
    }
   ],
   "source": [
    "y.head()"
   ]
  },
  {
   "cell_type": "markdown",
   "id": "e6517aa2",
   "metadata": {},
   "source": [
    "## Feature Extraction"
   ]
  },
  {
   "cell_type": "code",
   "execution_count": 7,
   "id": "c6c9302c",
   "metadata": {},
   "outputs": [],
   "source": [
    "# def extract_features(X_raw):\n",
    "#     X_extracted = []\n",
    "#     n_channels = 14 # Assuming there are 14 channels\n",
    "#     values_per_channel = 8\n",
    "\n",
    "#     for i in range(X_raw.shape[0]): \n",
    "#         row = X_raw.iloc[i].values\n",
    "#         features = []\n",
    "#         for j in range(n_channels):\n",
    "#             segment = row[j * values_per_channel : (j + 1) * values_per_channel]\n",
    "#             features.append(np.mean(segment))      # Mean\n",
    "#             features.append(np.std(segment))       # Std\n",
    "#             features.append(np.sum(segment**2))    # Energy\n",
    "#         X_extracted.append(features)\n",
    "\n",
    "#     return np.array(X_extracted)\n",
    "# X_extracted = extract_features(a)"
   ]
  },
  {
   "cell_type": "markdown",
   "id": "3e79622c",
   "metadata": {},
   "source": [
    "## Split Train/Test"
   ]
  },
  {
   "cell_type": "code",
   "execution_count": 8,
   "id": "d67c5d1a",
   "metadata": {},
   "outputs": [],
   "source": [
    "X_train, X_test, y_train, y_test = train_test_split(X, y, test_size=0.2, random_state=42)"
   ]
  },
  {
   "cell_type": "markdown",
   "id": "36c5137a",
   "metadata": {},
   "source": [
    "## Standardize the extracted features"
   ]
  },
  {
   "cell_type": "code",
   "execution_count": 9,
   "id": "3ac61a98",
   "metadata": {},
   "outputs": [],
   "source": [
    "# Standardize the features\n",
    "scaler = StandardScaler()\n",
    "X_train_scaled = scaler.fit_transform(X_train) \n",
    "X_test_scaled = scaler.transform(X_test)"
   ]
  },
  {
   "cell_type": "markdown",
   "id": "5b98a78b",
   "metadata": {},
   "source": [
    "## Model Selection"
   ]
  },
  {
   "cell_type": "markdown",
   "id": "cdae0c63",
   "metadata": {},
   "source": [
    "### 1. Comparing the models with default hyperparameter using Cross Validation"
   ]
  },
  {
   "cell_type": "code",
   "execution_count": 10,
   "id": "ba6e1a36",
   "metadata": {},
   "outputs": [
    {
     "name": "stdout",
     "output_type": "stream",
     "text": [
      "Model: LogisticRegression(max_iter=10000)\n",
      "  Cross-validation accuracies: [0.61171367 0.62906725 0.63774403 0.63557484 0.59130435]\n",
      "  Mean CV Accuracy: 62.11%\n",
      "  Test Accuracy: 63.19%\n",
      "----------------------------------\n",
      "Model: SVC(kernel='linear')\n",
      "  Cross-validation accuracies: [0.62039046 0.60737527 0.63557484 0.63557484 0.62826087]\n",
      "  Mean CV Accuracy: 62.54%\n",
      "  Test Accuracy: 62.85%\n",
      "----------------------------------\n",
      "Model: DecisionTreeClassifier()\n",
      "  Cross-validation accuracies: [0.70932755 0.69848156 0.69631236 0.63774403 0.68043478]\n",
      "  Mean CV Accuracy: 68.45%\n",
      "  Test Accuracy: 71.01%\n",
      "----------------------------------\n",
      "Model: RandomForestClassifier(random_state=0)\n",
      "  Cross-validation accuracies: [0.87201735 0.84598698 0.88503254 0.85466377 0.84565217]\n",
      "  Mean CV Accuracy: 86.07%\n",
      "  Test Accuracy: 88.02%\n",
      "----------------------------------\n",
      "Model: KNeighborsClassifier()\n",
      "  Cross-validation accuracies: [0.84598698 0.81561822 0.86334056 0.85032538 0.84130435]\n",
      "  Mean CV Accuracy: 84.33%\n",
      "  Test Accuracy: 85.94%\n",
      "----------------------------------\n"
     ]
    }
   ],
   "source": [
    "models = [LogisticRegression(max_iter = 10000),\n",
    "            SVC(kernel = 'linear'),\n",
    "            DecisionTreeClassifier(),\n",
    "            RandomForestClassifier(random_state=0),\n",
    "            KNeighborsClassifier()]\n",
    "\n",
    "def compare_models_cv():\n",
    "    for model in models:\n",
    "        cv_scores = cross_val_score(model, X_train_scaled, y_train, cv=5)\n",
    "        mean_cv_score = round(cv_scores.mean() * 100, 2)\n",
    "        model.fit(X_train_scaled, y_train)\n",
    "        test_score = round(model.score(X_test_scaled, y_test) * 100, 2)\n",
    "\n",
    "        # Print the results\n",
    "        print(f\"Model: {model}\")\n",
    "        print(f\"  Cross-validation accuracies: {cv_scores}\")\n",
    "        print(f\"  Mean CV Accuracy: {mean_cv_score}%\")\n",
    "        print(f\"  Test Accuracy: {test_score}%\")\n",
    "        print(\"----------------------------------\")\n",
    "\n",
    "compare_models_cv()\n"
   ]
  },
  {
   "cell_type": "markdown",
   "id": "8262163a",
   "metadata": {},
   "source": [
    "- RandomForest Classifier has the highest accuracy value with default hyperparameter values"
   ]
  },
  {
   "cell_type": "markdown",
   "id": "59b9e920",
   "metadata": {},
   "source": [
    "### 2. Compare the models with different Hyperparameter values using GridSearchCV"
   ]
  },
  {
   "cell_type": "code",
   "execution_count": 11,
   "id": "98029b1d",
   "metadata": {},
   "outputs": [
    {
     "data": {
      "text/html": [
       "<div>\n",
       "<style scoped>\n",
       "    .dataframe tbody tr th:only-of-type {\n",
       "        vertical-align: middle;\n",
       "    }\n",
       "\n",
       "    .dataframe tbody tr th {\n",
       "        vertical-align: top;\n",
       "    }\n",
       "\n",
       "    .dataframe thead th {\n",
       "        text-align: right;\n",
       "    }\n",
       "</style>\n",
       "<table border=\"1\" class=\"dataframe\">\n",
       "  <thead>\n",
       "    <tr style=\"text-align: right;\">\n",
       "      <th></th>\n",
       "      <th>model used</th>\n",
       "      <th>highest CV score</th>\n",
       "      <th>test accuracy</th>\n",
       "      <th>best parameters</th>\n",
       "    </tr>\n",
       "  </thead>\n",
       "  <tbody>\n",
       "    <tr>\n",
       "      <th>0</th>\n",
       "      <td>LogisticRegression(max_iter=10000)</td>\n",
       "      <td>62.45</td>\n",
       "      <td>64.06</td>\n",
       "      <td>{'C': 20}</td>\n",
       "    </tr>\n",
       "    <tr>\n",
       "      <th>1</th>\n",
       "      <td>SVC(kernel='linear')</td>\n",
       "      <td>88.19</td>\n",
       "      <td>90.97</td>\n",
       "      <td>{'C': 20, 'kernel': 'rbf'}</td>\n",
       "    </tr>\n",
       "    <tr>\n",
       "      <th>2</th>\n",
       "      <td>DecisionTreeClassifier()</td>\n",
       "      <td>69.44</td>\n",
       "      <td>70.14</td>\n",
       "      <td>{'max_depth': 20, 'min_samples_split': 2}</td>\n",
       "    </tr>\n",
       "    <tr>\n",
       "      <th>3</th>\n",
       "      <td>RandomForestClassifier(random_state=0)</td>\n",
       "      <td>86.07</td>\n",
       "      <td>88.02</td>\n",
       "      <td>{'n_estimators': 100}</td>\n",
       "    </tr>\n",
       "    <tr>\n",
       "      <th>4</th>\n",
       "      <td>KNeighborsClassifier()</td>\n",
       "      <td>86.67</td>\n",
       "      <td>88.02</td>\n",
       "      <td>{'n_neighbors': 3}</td>\n",
       "    </tr>\n",
       "  </tbody>\n",
       "</table>\n",
       "</div>"
      ],
      "text/plain": [
       "                               model used  highest CV score  test accuracy  \\\n",
       "0      LogisticRegression(max_iter=10000)             62.45          64.06   \n",
       "1                    SVC(kernel='linear')             88.19          90.97   \n",
       "2                DecisionTreeClassifier()             69.44          70.14   \n",
       "3  RandomForestClassifier(random_state=0)             86.07          88.02   \n",
       "4                  KNeighborsClassifier()             86.67          88.02   \n",
       "\n",
       "                             best parameters  \n",
       "0                                  {'C': 20}  \n",
       "1                 {'C': 20, 'kernel': 'rbf'}  \n",
       "2  {'max_depth': 20, 'min_samples_split': 2}  \n",
       "3                      {'n_estimators': 100}  \n",
       "4                         {'n_neighbors': 3}  "
      ]
     },
     "execution_count": 11,
     "metadata": {},
     "output_type": "execute_result"
    }
   ],
   "source": [
    "\n",
    "models = [LogisticRegression(max_iter = 10000),\n",
    "            SVC(kernel = 'linear'),\n",
    "            DecisionTreeClassifier(),\n",
    "            RandomForestClassifier(random_state=0),\n",
    "            KNeighborsClassifier()]\n",
    "\n",
    "model_hyperparameter = {\n",
    "    'log_reg_hyperparameters': {'C': [1, 5, 10, 20, 100]},\n",
    "    'SVC_hyperparameters': {'C': [1, 5, 10, 20, 100], 'kernel': ['linear', 'poly', 'rbf', 'sigmoid']},\n",
    "    'DecisionTree_hyperparameters': {\n",
    "        'max_depth': [3, 5, 10, 20, None],\n",
    "        'min_samples_split': [2, 5, 10]\n",
    "    },\n",
    "    'RandomForest_hyperparameters': {'n_estimators': [10, 20,  50, 100]},\n",
    "    'KNeighbors_hyperparameters': {'n_neighbors': [3, 5, 7, 9, 10]},\n",
    "}   \n",
    "\n",
    "def compare_models_gridsearchCV(list_of_models, model_hyperparameter):\n",
    "    results = []\n",
    "    model_keys = list(model_hyperparameter.keys())\n",
    "\n",
    "    for i, model in enumerate(list_of_models):\n",
    "        key = model_keys[i]\n",
    "        params = model_hyperparameter[key]\n",
    "\n",
    "        try:\n",
    "            classifier = GridSearchCV(model, params, cv=5, error_score=np.nan)\n",
    "            classifier.fit(X_train_scaled, y_train)\n",
    "            best_model = classifier.best_estimator_\n",
    "\n",
    "            test_accuracy = best_model.score(X_test_scaled, y_test)\n",
    "            best_score = classifier.best_score_\n",
    "\n",
    "        except Exception as e:\n",
    "            print(f\"⚠️ Error for model {model}: {e}\")\n",
    "            best_score = np.nan\n",
    "            test_accuracy = np.nan\n",
    "            best_model = None\n",
    "\n",
    "        results.append({\n",
    "            'model used': str(model),\n",
    "            'highest CV score': None if pd.isna(best_score) else round(best_score * 100, 2),\n",
    "            'test accuracy': None if pd.isna(test_accuracy) else round(test_accuracy * 100, 2),\n",
    "            'best parameters': classifier.best_params_ if best_model is not None else None\n",
    "        })\n",
    "\n",
    "    return pd.DataFrame(results)\n",
    "compare_models_gridsearchCV(models, model_hyperparameter)"
   ]
  },
  {
   "cell_type": "markdown",
   "id": "21f16d00",
   "metadata": {},
   "source": [
    "## Conclusion"
   ]
  },
  {
   "cell_type": "markdown",
   "id": "0ed34a9e",
   "metadata": {},
   "source": [
    "- After evaluating multiple classification models using both manual cross-validation and GridSearchCV, the `Support Vector Classifier (SVC)` with the RBF kernel emerged as the most promising choice. It consistently achieved **the highest cross-validation accuracy (up to 88.19%)** and an impressive **test accuracy of 90.97%**, outperforming all other models in terms of generalization performance.\n",
    "\n",
    "- The RBF kernel enables the SVC to capture non-linear relationships between features, which is particularly beneficial in complex classification tasks where class boundaries are not linearly separable. Compared to simpler models such as Logistic Regression and Decision Trees, the RBF-SVC demonstrated superior robustness and stability across different data splits.\n",
    "\n",
    "- Additionally, hyperparameter tuning via GridSearchCV identified optimal settings (`C=20`, `kernel='rbf'`) that significantly enhanced performance. This result confirms the model’s strong fit to the data without signs of overfitting, as evidenced by its high accuracy on both validation and test sets.\n",
    "\n",
    "**Conclusion:** Based on both cross-validation results and final test accuracy, the RBF-kernel SVC is selected as the best-performing model for this classification task.\n",
    "\n"
   ]
  }
 ],
 "metadata": {
  "kernelspec": {
   "display_name": ".venv",
   "language": "python",
   "name": "python3"
  },
  "language_info": {
   "codemirror_mode": {
    "name": "ipython",
    "version": 3
   },
   "file_extension": ".py",
   "mimetype": "text/x-python",
   "name": "python",
   "nbconvert_exporter": "python",
   "pygments_lexer": "ipython3",
   "version": "3.10.12"
  }
 },
 "nbformat": 4,
 "nbformat_minor": 5
}
